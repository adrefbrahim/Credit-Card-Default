{
 "cells": [
  {
   "cell_type": "markdown",
   "metadata": {},
   "source": [
    "# Description du challenge\n",
    "\n",
    "## Informations sur l'ensemble de données\n",
    "\n",
    "Cet ensemble de données contient des informations sur les paiements par défaut, les facteurs démographiques, les données de crédit, l'historique des paiements et les relevés de factures des clients de cartes de crédit à Taïwan d'avril 2005 à septembre 2005.\n",
    "\n",
    "## Contenant\n",
    "\n",
    "Il y a 19 variables:\n",
    "\n",
    "\n",
    "| Name | Description |\n",
    "| -----| ----- | \n",
    "| ID |  ID of each client |\n",
    "| LIMIT_BAL |  Amount of given credit in NT dollars (includes individual and family/supplementary credit |\n",
    "| SEX |  Gender (1=male, 2=female) |\n",
    "| EDUCATION |  (1=graduate school, 2=university, 3=high school, 4=others) |\n",
    "| MARRIAGE |  Marital status (1=married, 2=single, 3=others) |\n",
    "| AGE |  Age in years |\n",
    "| BILL_AMT1 |  Amount of bill statement in September, 2005 (NT dollar) |\n",
    "| BILL_AMT2 |  Amount of bill statement in August, 2005 (NT dollar) |\n",
    "| BILL_AMT3 |  Amount of bill statement in July, 2005 (NT dollar) |\n",
    "| BILL_AMT4 |  Amount of bill statement in June, 2005 (NT dollar) |\n",
    "| BILL_AMT5 |  Amount of bill statement in May, 2005 (NT dollar) |\n",
    "| BILL_AMT6 |  Amount of bill statement in April, 2005 (NT dollar) |\n",
    "| PAY_AMT1 |  Amount of previous payment in September, 2005 (NT dollar) |\n",
    "| PAY_AMT2 |  Amount of previous payment in August, 2005 (NT dollar) |\n",
    "| PAY_AMT3 |  Amount of previous payment in July, 2005 (NT dollar) |\n",
    "| PAY_AMT4 |  Amount of previous payment in June, 2005 (NT dollar) |\n",
    "| PAY_AMT5 |  Amount of previous payment in May, 2005 (NT dollar) |\n",
    "| PAY_AMT6 |  Amount of previous payment in April, 2005 (NT dollar) |\n",
    "| default_payment_next_month |  Default payment (1=yes, 0=no) |\n",
    "\n",
    "# Instructions\n",
    "\n",
    "L'objectif de la première partie est de faire une analyse statistique sur l'ensemble des données pour bien comprendre notre dataset avant de prédire si le client sera par défaut le mois prochain dans la deuxième partie. \n",
    "\n",
    "> **Lets do this**"
   ]
  },
  {
   "cell_type": "code",
   "execution_count": null,
   "metadata": {},
   "outputs": [],
   "source": []
  }
 ],
 "metadata": {
  "kernelspec": {
   "display_name": "Python 3",
   "language": "python",
   "name": "python3"
  },
  "language_info": {
   "codemirror_mode": {
    "name": "ipython",
    "version": 3
   },
   "file_extension": ".py",
   "mimetype": "text/x-python",
   "name": "python",
   "nbconvert_exporter": "python",
   "pygments_lexer": "ipython3",
   "version": "3.7.4"
  }
 },
 "nbformat": 4,
 "nbformat_minor": 2
}
