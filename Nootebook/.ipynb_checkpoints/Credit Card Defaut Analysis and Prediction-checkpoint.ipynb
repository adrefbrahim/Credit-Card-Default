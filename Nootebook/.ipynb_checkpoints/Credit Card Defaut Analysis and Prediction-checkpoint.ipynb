{
 "cells": [
  {
   "cell_type": "markdown",
   "metadata": {},
   "source": [
    "# Description du challenge\n",
    "\n",
    "## Informations sur l'ensemble de données\n",
    "\n",
    "Cet ensemble de données contient des informations sur les paiements par défaut, les facteurs démographiques, les données de crédit, l'historique des paiements et les relevés de factures des clients de cartes de crédit à Taïwan d'avril 2005 à septembre 2005.\n",
    "\n",
    "## Contenant\n",
    "\n",
    "Il y a 19 variables:\n",
    "\n",
    "\n",
    "| Name | Description |\n",
    "| -----| ----- | \n",
    "| ID |  ID of each client |\n",
    "| LIMIT_BAL |  Amount of given credit in NT dollars (includes individual and family/supplementary credit |\n",
    "| SEX |  Gender (1=male, 2=female) |\n",
    "| EDUCATION |  (1=graduate school, 2=university, 3=high school, 4=others) |\n",
    "| MARRIAGE |  Marital status (1=married, 2=single, 3=others) |\n",
    "| AGE |  Age in years |\n",
    "| BILL_AMT1 |  Amount of bill statement in September, 2005 (NT dollar) |\n",
    "| BILL_AMT2 |  Amount of bill statement in August, 2005 (NT dollar) |\n",
    "| BILL_AMT3 |  Amount of bill statement in July, 2005 (NT dollar) |\n",
    "| BILL_AMT4 |  Amount of bill statement in June, 2005 (NT dollar) |\n",
    "| BILL_AMT5 |  Amount of bill statement in May, 2005 (NT dollar) |\n",
    "| BILL_AMT6 |  Amount of bill statement in April, 2005 (NT dollar) |\n",
    "| PAY_AMT1 |  Amount of previous payment in September, 2005 (NT dollar) |\n",
    "| PAY_AMT2 |  Amount of previous payment in August, 2005 (NT dollar) |\n",
    "| PAY_AMT3 |  Amount of previous payment in July, 2005 (NT dollar) |\n",
    "| PAY_AMT4 |  Amount of previous payment in June, 2005 (NT dollar) |\n",
    "| PAY_AMT5 |  Amount of previous payment in May, 2005 (NT dollar) |\n",
    "| PAY_AMT6 |  Amount of previous payment in April, 2005 (NT dollar) |\n",
    "| default_payment_next_month |  Default payment (1=yes, 0=no) |\n",
    "\n",
    "# Instructions\n",
    "\n",
    "L'objectif de la première partie est de faire une analyse statistique sur l'ensemble des données pour bien comprendre notre dataset avant de prédire si le client sera par défaut le mois prochain dans la deuxième partie. \n",
    "\n",
    "> **Lets do this**"
   ]
  },
  {
   "cell_type": "markdown",
   "metadata": {},
   "source": [
    "# Data Loading \n",
    "\n",
    "Importation de mon dataset `./data.csv`"
   ]
  },
  {
   "cell_type": "code",
   "execution_count": 16,
   "metadata": {},
   "outputs": [],
   "source": [
    "# Importation des librairies\n",
    "\n",
    "import pandas as pd\n",
    "import matplotlib.pyplot as plt\n",
    "import numpy as np\n",
    "import seaborn as sns\n",
    "from sklearn.ensemble import RandomForestClassifier\n",
    "from sklearn.metrics import mean_squared_error\n",
    "from sklearn.metrics import r2_score\n",
    "from sklearn.metrics import roc_auc_score\n",
    "from sklearn.metrics import accuracy_score\n",
    "from sklearn.model_selection import train_test_split\n",
    "from sklearn.model_selection import GridSearchCV\n",
    "from sklearn.metrics import make_scorer\n",
    "from sklearn.metrics import f1_score\n",
    "from sklearn.metrics import confusion_matrix\n",
    "\n",
    "# Pour l'imputation des donées - Explication dans la section dédiée\n",
    "from impyute.imputation.cs import em"
   ]
  },
  {
   "cell_type": "code",
   "execution_count": 19,
   "metadata": {},
   "outputs": [],
   "source": [
    "df =  pd.read_csv(\"..//Data//dataset.csv\", index_col=0)\n",
    "# we keep the colmuns names to use them after the imputation part\n",
    "columns_names = df.columns.tolist()"
   ]
  },
  {
   "cell_type": "markdown",
   "metadata": {},
   "source": [
    "# Preprocessing\n",
    "\n",
    "**Etapes:**\n",
    "\n",
    "* Observer les valeurs manquantes et comment on peut les imputer\n",
    "* Calculer quelques statistiques descriptives pour mieux comprendre les données\n",
    "* Finalement, séléctionner les variables les plus pertinentes pour la prédiction\n",
    "\n",
    "### Imputer les valeurs manquantes\n",
    "\n",
    "Tout d'abord, nous devons voir quelles colonnes ont des valeurs manquantes, puis après chercher la manière la plus fiable pour les imputer"
   ]
  },
  {
   "cell_type": "code",
   "execution_count": null,
   "metadata": {},
   "outputs": [],
   "source": []
  }
 ],
 "metadata": {
  "kernelspec": {
   "display_name": "Python 3",
   "language": "python",
   "name": "python3"
  },
  "language_info": {
   "codemirror_mode": {
    "name": "ipython",
    "version": 3
   },
   "file_extension": ".py",
   "mimetype": "text/x-python",
   "name": "python",
   "nbconvert_exporter": "python",
   "pygments_lexer": "ipython3",
   "version": "3.7.4"
  }
 },
 "nbformat": 4,
 "nbformat_minor": 2
}
