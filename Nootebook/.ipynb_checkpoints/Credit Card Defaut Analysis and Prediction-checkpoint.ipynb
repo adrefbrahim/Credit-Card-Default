{
 "cells": [
  {
   "cell_type": "markdown",
   "metadata": {},
   "source": [
    "# Description du challenge\n",
    "\n",
    "## Informations sur l'ensemble de données\n",
    "\n",
    "Cet ensemble de données contient des informations sur les paiements par défaut, les facteurs démographiques, les données de crédit, l'historique des paiements et les relevés de factures des clients de cartes de crédit à Taïwan d'avril 2005 à septembre 2005.\n",
    "\n",
    "## Contenant\n",
    "\n",
    "Il y a 19 variables:\n",
    "\n",
    "\n",
    "| Name | Description |\n",
    "| -----| ----- | \n",
    "| ID |  ID of each client |\n",
    "| LIMIT_BAL |  Amount of given credit in NT dollars (includes individual and family/supplementary credit |\n",
    "| SEX |  Gender (1=male, 2=female) |\n",
    "| EDUCATION |  (1=graduate school, 2=university, 3=high school, 4=others) |\n",
    "| MARRIAGE |  Marital status (1=married, 2=single, 3=others) |\n",
    "| AGE |  Age in years |\n",
    "| BILL_AMT1 |  Amount of bill statement in September, 2005 (NT dollar) |\n",
    "| BILL_AMT2 |  Amount of bill statement in August, 2005 (NT dollar) |\n",
    "| BILL_AMT3 |  Amount of bill statement in July, 2005 (NT dollar) |\n",
    "| BILL_AMT4 |  Amount of bill statement in June, 2005 (NT dollar) |\n",
    "| BILL_AMT5 |  Amount of bill statement in May, 2005 (NT dollar) |\n",
    "| BILL_AMT6 |  Amount of bill statement in April, 2005 (NT dollar) |\n",
    "| PAY_AMT1 |  Amount of previous payment in September, 2005 (NT dollar) |\n",
    "| PAY_AMT2 |  Amount of previous payment in August, 2005 (NT dollar) |\n",
    "| PAY_AMT3 |  Amount of previous payment in July, 2005 (NT dollar) |\n",
    "| PAY_AMT4 |  Amount of previous payment in June, 2005 (NT dollar) |\n",
    "| PAY_AMT5 |  Amount of previous payment in May, 2005 (NT dollar) |\n",
    "| PAY_AMT6 |  Amount of previous payment in April, 2005 (NT dollar) |\n",
    "| default_payment_next_month |  Default payment (1=yes, 0=no) |\n",
    "\n",
    "# Instructions\n",
    "\n",
    "L'objectif de la première partie est de faire une analyse statistique sur l'ensemble des données pour bien comprendre notre dataset avant de prédire si le client sera par défaut le mois prochain dans la deuxième partie. \n",
    "\n",
    "> **Lets do this**"
   ]
  },
  {
   "cell_type": "markdown",
   "metadata": {},
   "source": [
    "# Data Loading \n",
    "\n",
    "Importation de mon dataset `./data.csv`"
   ]
  },
  {
   "cell_type": "code",
   "execution_count": 16,
   "metadata": {},
   "outputs": [],
   "source": [
    "# Importation des librairies\n",
    "\n",
    "import pandas as pd\n",
    "import matplotlib.pyplot as plt\n",
    "import numpy as np\n",
    "import seaborn as sns\n",
    "from sklearn.ensemble import RandomForestClassifier\n",
    "from sklearn.metrics import mean_squared_error\n",
    "from sklearn.metrics import r2_score\n",
    "from sklearn.metrics import roc_auc_score\n",
    "from sklearn.metrics import accuracy_score\n",
    "from sklearn.model_selection import train_test_split\n",
    "from sklearn.model_selection import GridSearchCV\n",
    "from sklearn.metrics import make_scorer\n",
    "from sklearn.metrics import f1_score\n",
    "from sklearn.metrics import confusion_matrix\n",
    "\n",
    "# Pour l'imputation des donées - Explication dans la section dédiée\n",
    "from impyute.imputation.cs import em"
   ]
  },
  {
   "cell_type": "code",
   "execution_count": 19,
   "metadata": {},
   "outputs": [],
   "source": [
    "df =  pd.read_csv(\"..//Data//dataset.csv\", index_col=0)\n",
    "# we keep the colmuns names to use them after the imputation part\n",
    "columns_names = df.columns.tolist()"
   ]
  },
  {
   "cell_type": "markdown",
   "metadata": {},
   "source": [
    "# Preprocessing\n",
    "\n",
    "**Etapes:**\n",
    "\n",
    "* Observer les valeurs manquantes et comment on peut les imputer\n",
    "* Calculer quelques statistiques descriptives pour mieux comprendre les données\n",
    "* Finalement, séléctionner les variables les plus pertinentes pour la prédiction\n",
    "\n",
    "### Imputer les valeurs manquantes\n",
    "\n",
    "Tout d'abord, nous devons voir quelles colonnes ont des valeurs manquantes, puis après chercher la manière la plus fiable pour les imputer"
   ]
  },
  {
   "cell_type": "code",
   "execution_count": 21,
   "metadata": {},
   "outputs": [
    {
     "name": "stdout",
     "output_type": "stream",
     "text": [
      "<class 'pandas.core.frame.DataFrame'>\n",
      "Int64Index: 30000 entries, 1 to 30000\n",
      "Data columns (total 18 columns):\n",
      "LIMIT_BAL                     30000 non-null float64\n",
      "SEX                           30000 non-null int64\n",
      "EDUCATION                     29655 non-null float64\n",
      "MARRIAGE                      29946 non-null float64\n",
      "AGE                           27419 non-null float64\n",
      "BILL_AMT1                     30000 non-null float64\n",
      "BILL_AMT2                     30000 non-null float64\n",
      "BILL_AMT3                     30000 non-null float64\n",
      "BILL_AMT4                     30000 non-null float64\n",
      "BILL_AMT5                     30000 non-null float64\n",
      "BILL_AMT6                     30000 non-null float64\n",
      "PAY_AMT1                      30000 non-null float64\n",
      "PAY_AMT2                      30000 non-null float64\n",
      "PAY_AMT3                      30000 non-null float64\n",
      "PAY_AMT4                      30000 non-null float64\n",
      "PAY_AMT5                      27129 non-null float64\n",
      "PAY_AMT6                      24526 non-null float64\n",
      "default_payment_next_month    30000 non-null int64\n",
      "dtypes: float64(16), int64(2)\n",
      "memory usage: 4.3 MB\n",
      "None\n"
     ]
    }
   ],
   "source": [
    "print(df.info())"
   ]
  },
  {
   "cell_type": "markdown",
   "metadata": {},
   "source": [
    "Comme nous pouvons le voir, nous avons **5 colonnes** qui ont des valeurs manquantes **(total < 3000)**. Il est donc utile de voir le **pourcentage** pour chaque colonne avant d'appliquer la procédure d'imputation, cela va m'aider à détecter rapidement les variables qui ont causé une mauvaise prédiction si j'ai des problèmes sur la précision de mes algorithmes de prédictions."
   ]
  },
  {
   "cell_type": "code",
   "execution_count": 22,
   "metadata": {},
   "outputs": [
    {
     "name": "stdout",
     "output_type": "stream",
     "text": [
      "LIMIT_BAL                     0.000000\n",
      "SEX                           0.000000\n",
      "EDUCATION                     0.011500\n",
      "MARRIAGE                      0.001800\n",
      "AGE                           0.086033\n",
      "BILL_AMT1                     0.000000\n",
      "BILL_AMT2                     0.000000\n",
      "BILL_AMT3                     0.000000\n",
      "BILL_AMT4                     0.000000\n",
      "BILL_AMT5                     0.000000\n",
      "BILL_AMT6                     0.000000\n",
      "PAY_AMT1                      0.000000\n",
      "PAY_AMT2                      0.000000\n",
      "PAY_AMT3                      0.000000\n",
      "PAY_AMT4                      0.000000\n",
      "PAY_AMT5                      0.095700\n",
      "PAY_AMT6                      0.182467\n",
      "default_payment_next_month    0.000000\n",
      "dtype: float64\n"
     ]
    }
   ],
   "source": [
    "print(df.isna().mean())"
   ]
  },
  {
   "cell_type": "markdown",
   "metadata": {},
   "source": [
    "Le pourcentage de valeurs manquantes est faible pour 4 colonnes sauf la colonne **PAY_AMT6** qui dépasse **10%**, cela peut influencer la prédiction"
   ]
  },
  {
   "cell_type": "markdown",
   "metadata": {},
   "source": [
    "#### Solution proposée \n",
    "\n",
    "Il y a deux types d'imputation qui peuvent être effectués, le premier qui est **_imputation simple_**, il y a beaucoup de techniques pour l'exécuter (imputation par la moyenne, régression, KNN, etc.), j'ai essayé d'utiliser plusieurs **_imputation-multiple_** avec l'algorithme connu **\"Expectation - Maximisation\"** dont le principe est de générer pour chaque valeur plusieurs autres valeurs possibles (Expectation) et de prendre les valeurs qui ont le plus de chances d'être le bon choix (Maximisation)\n",
    "\n",
    "_Remarque: l'imputation avec KNN ce sera aussi un bon choix, mais je choisis d'utiliser l'imputation-multiple_\n"
   ]
  },
  {
   "cell_type": "code",
   "execution_count": 23,
   "metadata": {},
   "outputs": [
    {
     "name": "stderr",
     "output_type": "stream",
     "text": [
      "C:\\Users\\Admin\\Anaconda3\\lib\\site-packages\\impyute\\util\\preprocess.py:52: FutureWarning: Method .as_matrix will be removed in a future version. Use .values instead.\n",
      "  args[0] = args[0].as_matrix()\n"
     ]
    }
   ],
   "source": [
    "df = em(df, loops=50)"
   ]
  },
  {
   "cell_type": "code",
   "execution_count": 24,
   "metadata": {},
   "outputs": [
    {
     "data": {
      "text/html": [
       "<div>\n",
       "<style scoped>\n",
       "    .dataframe tbody tr th:only-of-type {\n",
       "        vertical-align: middle;\n",
       "    }\n",
       "\n",
       "    .dataframe tbody tr th {\n",
       "        vertical-align: top;\n",
       "    }\n",
       "\n",
       "    .dataframe thead th {\n",
       "        text-align: right;\n",
       "    }\n",
       "</style>\n",
       "<table border=\"1\" class=\"dataframe\">\n",
       "  <thead>\n",
       "    <tr style=\"text-align: right;\">\n",
       "      <th></th>\n",
       "      <th>LIMIT_BAL</th>\n",
       "      <th>SEX</th>\n",
       "      <th>EDUCATION</th>\n",
       "      <th>MARRIAGE</th>\n",
       "      <th>AGE</th>\n",
       "      <th>BILL_AMT1</th>\n",
       "      <th>BILL_AMT2</th>\n",
       "      <th>BILL_AMT3</th>\n",
       "      <th>BILL_AMT4</th>\n",
       "      <th>BILL_AMT5</th>\n",
       "      <th>BILL_AMT6</th>\n",
       "      <th>PAY_AMT1</th>\n",
       "      <th>PAY_AMT2</th>\n",
       "      <th>PAY_AMT3</th>\n",
       "      <th>PAY_AMT4</th>\n",
       "      <th>PAY_AMT5</th>\n",
       "      <th>PAY_AMT6</th>\n",
       "      <th>default_payment_next_month</th>\n",
       "    </tr>\n",
       "    <tr>\n",
       "      <th>ID</th>\n",
       "      <th></th>\n",
       "      <th></th>\n",
       "      <th></th>\n",
       "      <th></th>\n",
       "      <th></th>\n",
       "      <th></th>\n",
       "      <th></th>\n",
       "      <th></th>\n",
       "      <th></th>\n",
       "      <th></th>\n",
       "      <th></th>\n",
       "      <th></th>\n",
       "      <th></th>\n",
       "      <th></th>\n",
       "      <th></th>\n",
       "      <th></th>\n",
       "      <th></th>\n",
       "      <th></th>\n",
       "    </tr>\n",
       "  </thead>\n",
       "  <tbody>\n",
       "    <tr>\n",
       "      <th>1</th>\n",
       "      <td>20000.0</td>\n",
       "      <td>2.0</td>\n",
       "      <td>2.0</td>\n",
       "      <td>1.0</td>\n",
       "      <td>24.000000</td>\n",
       "      <td>3913.0</td>\n",
       "      <td>3102.0</td>\n",
       "      <td>689.0</td>\n",
       "      <td>0.0</td>\n",
       "      <td>0.0</td>\n",
       "      <td>0.0</td>\n",
       "      <td>0.0</td>\n",
       "      <td>689.0</td>\n",
       "      <td>0.0</td>\n",
       "      <td>0.0</td>\n",
       "      <td>0.0</td>\n",
       "      <td>-9505.519296</td>\n",
       "      <td>1.0</td>\n",
       "    </tr>\n",
       "    <tr>\n",
       "      <th>2</th>\n",
       "      <td>120000.0</td>\n",
       "      <td>2.0</td>\n",
       "      <td>2.0</td>\n",
       "      <td>2.0</td>\n",
       "      <td>26.000000</td>\n",
       "      <td>2682.0</td>\n",
       "      <td>1725.0</td>\n",
       "      <td>2682.0</td>\n",
       "      <td>3272.0</td>\n",
       "      <td>3455.0</td>\n",
       "      <td>3261.0</td>\n",
       "      <td>0.0</td>\n",
       "      <td>1000.0</td>\n",
       "      <td>1000.0</td>\n",
       "      <td>1000.0</td>\n",
       "      <td>0.0</td>\n",
       "      <td>2000.000000</td>\n",
       "      <td>1.0</td>\n",
       "    </tr>\n",
       "    <tr>\n",
       "      <th>3</th>\n",
       "      <td>90000.0</td>\n",
       "      <td>2.0</td>\n",
       "      <td>2.0</td>\n",
       "      <td>2.0</td>\n",
       "      <td>34.000000</td>\n",
       "      <td>29239.0</td>\n",
       "      <td>14027.0</td>\n",
       "      <td>13559.0</td>\n",
       "      <td>14331.0</td>\n",
       "      <td>14948.0</td>\n",
       "      <td>15549.0</td>\n",
       "      <td>1518.0</td>\n",
       "      <td>1500.0</td>\n",
       "      <td>1000.0</td>\n",
       "      <td>1000.0</td>\n",
       "      <td>1000.0</td>\n",
       "      <td>5000.000000</td>\n",
       "      <td>0.0</td>\n",
       "    </tr>\n",
       "    <tr>\n",
       "      <th>4</th>\n",
       "      <td>50000.0</td>\n",
       "      <td>2.0</td>\n",
       "      <td>2.0</td>\n",
       "      <td>1.0</td>\n",
       "      <td>20.786032</td>\n",
       "      <td>46990.0</td>\n",
       "      <td>48233.0</td>\n",
       "      <td>49291.0</td>\n",
       "      <td>28314.0</td>\n",
       "      <td>28959.0</td>\n",
       "      <td>29547.0</td>\n",
       "      <td>2000.0</td>\n",
       "      <td>2019.0</td>\n",
       "      <td>1200.0</td>\n",
       "      <td>1100.0</td>\n",
       "      <td>1069.0</td>\n",
       "      <td>1000.000000</td>\n",
       "      <td>0.0</td>\n",
       "    </tr>\n",
       "    <tr>\n",
       "      <th>5</th>\n",
       "      <td>50000.0</td>\n",
       "      <td>1.0</td>\n",
       "      <td>2.0</td>\n",
       "      <td>1.0</td>\n",
       "      <td>57.000000</td>\n",
       "      <td>8617.0</td>\n",
       "      <td>5670.0</td>\n",
       "      <td>35835.0</td>\n",
       "      <td>20940.0</td>\n",
       "      <td>19146.0</td>\n",
       "      <td>19131.0</td>\n",
       "      <td>2000.0</td>\n",
       "      <td>36681.0</td>\n",
       "      <td>10000.0</td>\n",
       "      <td>9000.0</td>\n",
       "      <td>689.0</td>\n",
       "      <td>679.000000</td>\n",
       "      <td>0.0</td>\n",
       "    </tr>\n",
       "  </tbody>\n",
       "</table>\n",
       "</div>"
      ],
      "text/plain": [
       "    LIMIT_BAL  SEX  EDUCATION  MARRIAGE        AGE  BILL_AMT1  BILL_AMT2  \\\n",
       "ID                                                                         \n",
       "1     20000.0  2.0        2.0       1.0  24.000000     3913.0     3102.0   \n",
       "2    120000.0  2.0        2.0       2.0  26.000000     2682.0     1725.0   \n",
       "3     90000.0  2.0        2.0       2.0  34.000000    29239.0    14027.0   \n",
       "4     50000.0  2.0        2.0       1.0  20.786032    46990.0    48233.0   \n",
       "5     50000.0  1.0        2.0       1.0  57.000000     8617.0     5670.0   \n",
       "\n",
       "    BILL_AMT3  BILL_AMT4  BILL_AMT5  BILL_AMT6  PAY_AMT1  PAY_AMT2  PAY_AMT3  \\\n",
       "ID                                                                             \n",
       "1       689.0        0.0        0.0        0.0       0.0     689.0       0.0   \n",
       "2      2682.0     3272.0     3455.0     3261.0       0.0    1000.0    1000.0   \n",
       "3     13559.0    14331.0    14948.0    15549.0    1518.0    1500.0    1000.0   \n",
       "4     49291.0    28314.0    28959.0    29547.0    2000.0    2019.0    1200.0   \n",
       "5     35835.0    20940.0    19146.0    19131.0    2000.0   36681.0   10000.0   \n",
       "\n",
       "    PAY_AMT4  PAY_AMT5     PAY_AMT6  default_payment_next_month  \n",
       "ID                                                               \n",
       "1        0.0       0.0 -9505.519296                         1.0  \n",
       "2     1000.0       0.0  2000.000000                         1.0  \n",
       "3     1000.0    1000.0  5000.000000                         0.0  \n",
       "4     1100.0    1069.0  1000.000000                         0.0  \n",
       "5     9000.0     689.0   679.000000                         0.0  "
      ]
     },
     "execution_count": 24,
     "metadata": {},
     "output_type": "execute_result"
    }
   ],
   "source": [
    "# Ces lignes suivantes sont juste pour garder les noms des entêtes des colonnes après l'imputation\n",
    "df.columns = columns_names\n",
    "df.index = pd.RangeIndex(start=1, stop=30001, step=1)\n",
    "df.index.rename(name=\"ID\", inplace=True)\n",
    "\n",
    "df.head()"
   ]
  },
  {
   "cell_type": "markdown",
   "metadata": {},
   "source": [
    "La phase d'imputation n'est pas encore terminée, dans ce cas il ne faut pas oublier de revenir à la description des données pour voir la modalité et le type de données de chacune des variables que nous avons imputées.\n",
    "\n",
    "* Education -> (1 = études supérieures, 2 = université, 3 = lycée, 4 = autres), dtype = float64\n",
    "* Mariage -> État matrimonial (1 = marié, 2 = célibataire, 3 = autres), dtype = float64\n",
    "* Age -> Âge en années, dtype = float64\n",
    "* PAY_AMT5 -> Montant du paiement précédent en avril 2005 (dollar NT), dtype = float64\n",
    "* PAY_AMT6 -> Montant du paiement précédent en mai 2005 (dollar NT), dtype = float64\n",
    "\n",
    "Nous pouvons voir directement le problème qui se posera après l'imputation, car le type de données de toutes ces variables est **float64**, donc après l'imputation, nous aurons des valeurs réelles pour la variable Education, Mariage et Âge qui n'acceptent que des valeurs entières (**int**)."
   ]
  },
  {
   "cell_type": "code",
   "execution_count": 25,
   "metadata": {},
   "outputs": [
    {
     "data": {
      "text/plain": [
       "array([1.        , 2.        , 3.        , 1.4759129 , 1.54488241,\n",
       "       0.70829543, 1.36743795, 0.97179317, 1.18280742, 1.31498744,\n",
       "       1.36434965, 1.51143587, 1.12731488, 1.24436503, 1.32008827,\n",
       "       0.77885315, 1.28084594, 1.11655502, 0.98017299, 1.27267079,\n",
       "       0.38900136, 1.99925306, 2.74292021, 0.39674545, 1.30762385,\n",
       "       1.69867528, 1.4047711 , 1.26368159, 1.56613725, 0.93774405,\n",
       "       1.93496641, 1.38720634, 1.49859801, 0.8888333 , 1.99491872,\n",
       "       1.13661202, 1.08903151, 1.25160344, 1.59088052, 1.79381163,\n",
       "       1.1522259 , 0.34118133, 1.03996182, 1.70317224, 0.75113898,\n",
       "       1.66193257, 1.18590698, 1.94367266, 1.26734811, 1.3429388 ,\n",
       "       1.4423856 , 2.06151768, 1.37381714, 0.70551828, 1.66822944,\n",
       "       1.29236815, 1.35672571])"
      ]
     },
     "execution_count": 25,
     "metadata": {},
     "output_type": "execute_result"
    }
   ],
   "source": [
    "df[\"MARRIAGE\"].unique()"
   ]
  },
  {
   "cell_type": "markdown",
   "metadata": {},
   "source": [
    "Voici l'exemple de la variable **MARIAGE** qui nous donne une vision sur le problème de modalité, la solution que je propose est d'arrondir (round) les valeurs imputées et de récupérer juste la valeur entière, nous utiliserons la fonction *ciel ()* qui renvoie le plus petit [*entier >= valeur_courante*]"
   ]
  },
  {
   "cell_type": "code",
   "execution_count": 26,
   "metadata": {},
   "outputs": [],
   "source": [
    "# Variable EDUCATION\n",
    "df[\"EDUCATION\"] = df[\"EDUCATION\"].apply(np.absolute)\n",
    "df[\"EDUCATION\"] = df[\"EDUCATION\"].apply(np.ceil)\n",
    "\n",
    "# VARIABLE MARRIAGE\n",
    "df[\"MARRIAGE\"] = df[\"MARRIAGE\"].apply(np.absolute)\n",
    "df[\"MARRIAGE\"] = df[\"MARRIAGE\"].apply(np.ceil)\n",
    "\n",
    "# VARIABLE AGE\n",
    "df[\"AGE\"] = df[\"AGE\"].apply(np.absolute)\n",
    "df[\"AGE\"] = df[\"AGE\"].apply(np.ceil)"
   ]
  },
  {
   "cell_type": "markdown",
   "metadata": {},
   "source": [
    "Nous pouvons voir maintenant le résulatat de modalité sur chaque Variable "
   ]
  },
  {
   "cell_type": "code",
   "execution_count": 29,
   "metadata": {},
   "outputs": [
    {
     "name": "stdout",
     "output_type": "stream",
     "text": [
      "Modalité d'Education :  [2. 1. 3. 4.]\n",
      "Modalité du Marriage:  [1. 2. 3.]\n"
     ]
    }
   ],
   "source": [
    "print (\"Modalité d'Education : \", df[\"EDUCATION\"].unique())\n",
    "print (\"Modalité du Marriage: \", df[\"MARRIAGE\"].unique())"
   ]
  },
  {
   "cell_type": "markdown",
   "metadata": {},
   "source": [
    "Il faut s'assurer que chaque variable a des valeurs entières (int) (cette variable n'était pas le sujet de l'imputation) juste la fonction *em()* renvoie la valeur en *float* de toutes les variables"
   ]
  },
  {
   "cell_type": "code",
   "execution_count": 30,
   "metadata": {},
   "outputs": [],
   "source": [
    "df[\"default_payment_next_month\"] = df[\"default_payment_next_month\"].apply(np.trunc)"
   ]
  },
  {
   "cell_type": "markdown",
   "metadata": {},
   "source": [
    "### Maintenant, mon dataset est prêt pour une bonne utilisation"
   ]
  }
 ],
 "metadata": {
  "kernelspec": {
   "display_name": "Python 3",
   "language": "python",
   "name": "python3"
  },
  "language_info": {
   "codemirror_mode": {
    "name": "ipython",
    "version": 3
   },
   "file_extension": ".py",
   "mimetype": "text/x-python",
   "name": "python",
   "nbconvert_exporter": "python",
   "pygments_lexer": "ipython3",
   "version": "3.7.4"
  }
 },
 "nbformat": 4,
 "nbformat_minor": 2
}
