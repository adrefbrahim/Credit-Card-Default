{
 "cells": [
  {
   "cell_type": "markdown",
   "metadata": {},
   "source": [
    "# `Description du challenge`\n",
    "\n",
    "> Réalisé par : ADREF Brahim <<adrefbrahim@gmail.com>> \n",
    "\n",
    "## Informations sur l'ensemble de données\n",
    "\n",
    "Cet ensemble de données contient des informations sur les paiements par défaut, les facteurs démographiques, les données de crédit, l'historique des paiements et les relevés de factures des clients de cartes de crédit à Taïwan d'avril 2005 à septembre 2005.\n",
    "\n",
    "## Contenant\n",
    "\n",
    "Il y a 19 variables:\n",
    "\n",
    "\n",
    "| Name | Description |\n",
    "| -----| ----- | \n",
    "| ID |  ID of each client |\n",
    "| LIMIT_BAL |  Amount of given credit in NT dollars (includes individual and family/supplementary credit |\n",
    "| SEX |  Gender (1=male, 2=female) |\n",
    "| EDUCATION |  (1=graduate school, 2=university, 3=high school, 4=others) |\n",
    "| MARRIAGE |  Marital status (1=married, 2=single, 3=others) |\n",
    "| AGE |  Age in years |\n",
    "| BILL_AMT1 |  Amount of bill statement in September, 2005 (NT dollar) |\n",
    "| BILL_AMT2 |  Amount of bill statement in August, 2005 (NT dollar) |\n",
    "| BILL_AMT3 |  Amount of bill statement in July, 2005 (NT dollar) |\n",
    "| BILL_AMT4 |  Amount of bill statement in June, 2005 (NT dollar) |\n",
    "| BILL_AMT5 |  Amount of bill statement in May, 2005 (NT dollar) |\n",
    "| BILL_AMT6 |  Amount of bill statement in April, 2005 (NT dollar) |\n",
    "| PAY_AMT1 |  Amount of previous payment in September, 2005 (NT dollar) |\n",
    "| PAY_AMT2 |  Amount of previous payment in August, 2005 (NT dollar) |\n",
    "| PAY_AMT3 |  Amount of previous payment in July, 2005 (NT dollar) |\n",
    "| PAY_AMT4 |  Amount of previous payment in June, 2005 (NT dollar) |\n",
    "| PAY_AMT5 |  Amount of previous payment in May, 2005 (NT dollar) |\n",
    "| PAY_AMT6 |  Amount of previous payment in April, 2005 (NT dollar) |\n",
    "| default_payment_next_month |  Default payment (1=yes, 0=no) |\n",
    "\n",
    "# Instructions\n",
    "\n",
    "L'objectif de la première partie est de faire une analyse statistique sur l'ensemble des données pour bien comprendre notre dataset avant de prédire si le client sera par défaut le mois prochain dans la deuxième partie. \n",
    "\n",
    "> **Lets do this**"
   ]
  },
  {
   "cell_type": "markdown",
   "metadata": {},
   "source": [
    "# Data Loading \n",
    "\n",
    "Importation de mon dataset `./data.csv`"
   ]
  },
  {
   "cell_type": "code",
   "execution_count": 1,
   "metadata": {},
   "outputs": [],
   "source": [
    "# Importation des librairies\n",
    "\n",
    "import pandas as pd\n",
    "import matplotlib.pyplot as plt\n",
    "import numpy as np\n",
    "import seaborn as sns\n",
    "from sklearn.ensemble import RandomForestClassifier\n",
    "from sklearn.metrics import mean_squared_error\n",
    "from sklearn.metrics import r2_score\n",
    "from sklearn.metrics import roc_auc_score\n",
    "from sklearn.metrics import accuracy_score\n",
    "from sklearn.model_selection import train_test_split\n",
    "from sklearn.model_selection import GridSearchCV\n",
    "from sklearn.metrics import make_scorer\n",
    "from sklearn.metrics import f1_score\n",
    "from sklearn.metrics import confusion_matrix\n",
    "\n",
    "# Pour l'imputation des donées - Explication dans la section dédiée\n",
    "from impyute.imputation.cs import em"
   ]
  },
  {
   "cell_type": "code",
   "execution_count": 2,
   "metadata": {},
   "outputs": [],
   "source": [
    "df =  pd.read_csv(\"..//Data//dataset.csv\", index_col=0)\n",
    "# we keep the colmuns names to use them after the imputation part\n",
    "columns_names = df.columns.tolist()"
   ]
  },
  {
   "cell_type": "markdown",
   "metadata": {},
   "source": [
    "# Preprocessing\n",
    "\n",
    "**Etapes:**\n",
    "\n",
    "* Observer les valeurs manquantes et comment on peut les imputer\n",
    "* Calculer quelques statistiques descriptives pour mieux comprendre les données\n",
    "* Finalement, séléctionner les variables les plus pertinentes pour la prédiction\n",
    "\n",
    "### Imputer les valeurs manquantes\n",
    "\n",
    "Tout d'abord, nous devons voir quelles colonnes ont des valeurs manquantes, puis après chercher la manière la plus fiable pour les imputer"
   ]
  },
  {
   "cell_type": "code",
   "execution_count": 21,
   "metadata": {},
   "outputs": [
    {
     "name": "stdout",
     "output_type": "stream",
     "text": [
      "<class 'pandas.core.frame.DataFrame'>\n",
      "Int64Index: 30000 entries, 1 to 30000\n",
      "Data columns (total 18 columns):\n",
      "LIMIT_BAL                     30000 non-null float64\n",
      "SEX                           30000 non-null int64\n",
      "EDUCATION                     29655 non-null float64\n",
      "MARRIAGE                      29946 non-null float64\n",
      "AGE                           27419 non-null float64\n",
      "BILL_AMT1                     30000 non-null float64\n",
      "BILL_AMT2                     30000 non-null float64\n",
      "BILL_AMT3                     30000 non-null float64\n",
      "BILL_AMT4                     30000 non-null float64\n",
      "BILL_AMT5                     30000 non-null float64\n",
      "BILL_AMT6                     30000 non-null float64\n",
      "PAY_AMT1                      30000 non-null float64\n",
      "PAY_AMT2                      30000 non-null float64\n",
      "PAY_AMT3                      30000 non-null float64\n",
      "PAY_AMT4                      30000 non-null float64\n",
      "PAY_AMT5                      27129 non-null float64\n",
      "PAY_AMT6                      24526 non-null float64\n",
      "default_payment_next_month    30000 non-null int64\n",
      "dtypes: float64(16), int64(2)\n",
      "memory usage: 4.3 MB\n",
      "None\n"
     ]
    }
   ],
   "source": [
    "print(df.info())"
   ]
  },
  {
   "cell_type": "markdown",
   "metadata": {},
   "source": [
    "Comme nous pouvons le voir, nous avons **5 colonnes** qui ont des valeurs manquantes **(total < 3000)**. Il est donc utile de voir le **pourcentage** pour chaque colonne avant d'appliquer la procédure d'imputation, cela va m'aider à détecter rapidement les variables qui ont causé une mauvaise prédiction si j'ai des problèmes sur la précision de mes algorithmes de prédictions."
   ]
  },
  {
   "cell_type": "code",
   "execution_count": 22,
   "metadata": {},
   "outputs": [
    {
     "name": "stdout",
     "output_type": "stream",
     "text": [
      "LIMIT_BAL                     0.000000\n",
      "SEX                           0.000000\n",
      "EDUCATION                     0.011500\n",
      "MARRIAGE                      0.001800\n",
      "AGE                           0.086033\n",
      "BILL_AMT1                     0.000000\n",
      "BILL_AMT2                     0.000000\n",
      "BILL_AMT3                     0.000000\n",
      "BILL_AMT4                     0.000000\n",
      "BILL_AMT5                     0.000000\n",
      "BILL_AMT6                     0.000000\n",
      "PAY_AMT1                      0.000000\n",
      "PAY_AMT2                      0.000000\n",
      "PAY_AMT3                      0.000000\n",
      "PAY_AMT4                      0.000000\n",
      "PAY_AMT5                      0.095700\n",
      "PAY_AMT6                      0.182467\n",
      "default_payment_next_month    0.000000\n",
      "dtype: float64\n"
     ]
    }
   ],
   "source": [
    "print(df.isna().mean())"
   ]
  },
  {
   "cell_type": "markdown",
   "metadata": {},
   "source": [
    "Le pourcentage de valeurs manquantes est faible pour 4 colonnes sauf la colonne **PAY_AMT6** qui dépasse **10%**, cela peut influencer la prédiction"
   ]
  },
  {
   "cell_type": "markdown",
   "metadata": {},
   "source": [
    "#### Solution proposée \n",
    "\n",
    "Il y a deux types d'imputation qui peuvent être effectués, le premier qui est **_imputation simple_**, il y a beaucoup de techniques pour l'exécuter (imputation par la moyenne, régression, KNN, etc.), j'ai essayé d'utiliser plusieurs **_imputation-multiple_** avec l'algorithme connu **\"Expectation - Maximisation\"** dont le principe est de générer pour chaque valeur plusieurs autres valeurs possibles (Expectation) et de prendre les valeurs qui ont le plus de chances d'être le bon choix (Maximisation)\n",
    "\n",
    "_Remarque: l'imputation avec KNN ce sera aussi un bon choix, mais je choisis d'utiliser l'imputation-multiple_\n"
   ]
  },
  {
   "cell_type": "code",
   "execution_count": 5,
   "metadata": {},
   "outputs": [
    {
     "name": "stderr",
     "output_type": "stream",
     "text": [
      "C:\\Users\\Admin\\Anaconda3\\lib\\site-packages\\impyute\\util\\preprocess.py:52: FutureWarning: Method .as_matrix will be removed in a future version. Use .values instead.\n",
      "  args[0] = args[0].as_matrix()\n"
     ]
    }
   ],
   "source": [
    "df = em(df, loops=50)"
   ]
  },
  {
   "cell_type": "code",
   "execution_count": 7,
   "metadata": {},
   "outputs": [
    {
     "data": {
      "text/html": [
       "<div>\n",
       "<style scoped>\n",
       "    .dataframe tbody tr th:only-of-type {\n",
       "        vertical-align: middle;\n",
       "    }\n",
       "\n",
       "    .dataframe tbody tr th {\n",
       "        vertical-align: top;\n",
       "    }\n",
       "\n",
       "    .dataframe thead th {\n",
       "        text-align: right;\n",
       "    }\n",
       "</style>\n",
       "<table border=\"1\" class=\"dataframe\">\n",
       "  <thead>\n",
       "    <tr style=\"text-align: right;\">\n",
       "      <th></th>\n",
       "      <th>LIMIT_BAL</th>\n",
       "      <th>SEX</th>\n",
       "      <th>EDUCATION</th>\n",
       "      <th>MARRIAGE</th>\n",
       "      <th>AGE</th>\n",
       "      <th>BILL_AMT1</th>\n",
       "      <th>BILL_AMT2</th>\n",
       "      <th>BILL_AMT3</th>\n",
       "      <th>BILL_AMT4</th>\n",
       "      <th>BILL_AMT5</th>\n",
       "      <th>BILL_AMT6</th>\n",
       "      <th>PAY_AMT1</th>\n",
       "      <th>PAY_AMT2</th>\n",
       "      <th>PAY_AMT3</th>\n",
       "      <th>PAY_AMT4</th>\n",
       "      <th>PAY_AMT5</th>\n",
       "      <th>PAY_AMT6</th>\n",
       "      <th>default_payment_next_month</th>\n",
       "    </tr>\n",
       "    <tr>\n",
       "      <th>ID</th>\n",
       "      <th></th>\n",
       "      <th></th>\n",
       "      <th></th>\n",
       "      <th></th>\n",
       "      <th></th>\n",
       "      <th></th>\n",
       "      <th></th>\n",
       "      <th></th>\n",
       "      <th></th>\n",
       "      <th></th>\n",
       "      <th></th>\n",
       "      <th></th>\n",
       "      <th></th>\n",
       "      <th></th>\n",
       "      <th></th>\n",
       "      <th></th>\n",
       "      <th></th>\n",
       "      <th></th>\n",
       "    </tr>\n",
       "  </thead>\n",
       "  <tbody>\n",
       "    <tr>\n",
       "      <th>1</th>\n",
       "      <td>20000.0</td>\n",
       "      <td>2.0</td>\n",
       "      <td>2.0</td>\n",
       "      <td>1.0</td>\n",
       "      <td>24.000000</td>\n",
       "      <td>3913.0</td>\n",
       "      <td>3102.0</td>\n",
       "      <td>689.0</td>\n",
       "      <td>0.0</td>\n",
       "      <td>0.0</td>\n",
       "      <td>0.0</td>\n",
       "      <td>0.0</td>\n",
       "      <td>689.0</td>\n",
       "      <td>0.0</td>\n",
       "      <td>0.0</td>\n",
       "      <td>0.0</td>\n",
       "      <td>16136.23608</td>\n",
       "      <td>1.0</td>\n",
       "    </tr>\n",
       "    <tr>\n",
       "      <th>2</th>\n",
       "      <td>120000.0</td>\n",
       "      <td>2.0</td>\n",
       "      <td>2.0</td>\n",
       "      <td>2.0</td>\n",
       "      <td>26.000000</td>\n",
       "      <td>2682.0</td>\n",
       "      <td>1725.0</td>\n",
       "      <td>2682.0</td>\n",
       "      <td>3272.0</td>\n",
       "      <td>3455.0</td>\n",
       "      <td>3261.0</td>\n",
       "      <td>0.0</td>\n",
       "      <td>1000.0</td>\n",
       "      <td>1000.0</td>\n",
       "      <td>1000.0</td>\n",
       "      <td>0.0</td>\n",
       "      <td>2000.00000</td>\n",
       "      <td>1.0</td>\n",
       "    </tr>\n",
       "    <tr>\n",
       "      <th>3</th>\n",
       "      <td>90000.0</td>\n",
       "      <td>2.0</td>\n",
       "      <td>2.0</td>\n",
       "      <td>2.0</td>\n",
       "      <td>34.000000</td>\n",
       "      <td>29239.0</td>\n",
       "      <td>14027.0</td>\n",
       "      <td>13559.0</td>\n",
       "      <td>14331.0</td>\n",
       "      <td>14948.0</td>\n",
       "      <td>15549.0</td>\n",
       "      <td>1518.0</td>\n",
       "      <td>1500.0</td>\n",
       "      <td>1000.0</td>\n",
       "      <td>1000.0</td>\n",
       "      <td>1000.0</td>\n",
       "      <td>5000.00000</td>\n",
       "      <td>0.0</td>\n",
       "    </tr>\n",
       "    <tr>\n",
       "      <th>4</th>\n",
       "      <td>50000.0</td>\n",
       "      <td>2.0</td>\n",
       "      <td>2.0</td>\n",
       "      <td>1.0</td>\n",
       "      <td>21.637951</td>\n",
       "      <td>46990.0</td>\n",
       "      <td>48233.0</td>\n",
       "      <td>49291.0</td>\n",
       "      <td>28314.0</td>\n",
       "      <td>28959.0</td>\n",
       "      <td>29547.0</td>\n",
       "      <td>2000.0</td>\n",
       "      <td>2019.0</td>\n",
       "      <td>1200.0</td>\n",
       "      <td>1100.0</td>\n",
       "      <td>1069.0</td>\n",
       "      <td>1000.00000</td>\n",
       "      <td>0.0</td>\n",
       "    </tr>\n",
       "    <tr>\n",
       "      <th>5</th>\n",
       "      <td>50000.0</td>\n",
       "      <td>1.0</td>\n",
       "      <td>2.0</td>\n",
       "      <td>1.0</td>\n",
       "      <td>57.000000</td>\n",
       "      <td>8617.0</td>\n",
       "      <td>5670.0</td>\n",
       "      <td>35835.0</td>\n",
       "      <td>20940.0</td>\n",
       "      <td>19146.0</td>\n",
       "      <td>19131.0</td>\n",
       "      <td>2000.0</td>\n",
       "      <td>36681.0</td>\n",
       "      <td>10000.0</td>\n",
       "      <td>9000.0</td>\n",
       "      <td>689.0</td>\n",
       "      <td>679.00000</td>\n",
       "      <td>0.0</td>\n",
       "    </tr>\n",
       "  </tbody>\n",
       "</table>\n",
       "</div>"
      ],
      "text/plain": [
       "    LIMIT_BAL  SEX  EDUCATION  MARRIAGE        AGE  BILL_AMT1  BILL_AMT2  \\\n",
       "ID                                                                         \n",
       "1     20000.0  2.0        2.0       1.0  24.000000     3913.0     3102.0   \n",
       "2    120000.0  2.0        2.0       2.0  26.000000     2682.0     1725.0   \n",
       "3     90000.0  2.0        2.0       2.0  34.000000    29239.0    14027.0   \n",
       "4     50000.0  2.0        2.0       1.0  21.637951    46990.0    48233.0   \n",
       "5     50000.0  1.0        2.0       1.0  57.000000     8617.0     5670.0   \n",
       "\n",
       "    BILL_AMT3  BILL_AMT4  BILL_AMT5  BILL_AMT6  PAY_AMT1  PAY_AMT2  PAY_AMT3  \\\n",
       "ID                                                                             \n",
       "1       689.0        0.0        0.0        0.0       0.0     689.0       0.0   \n",
       "2      2682.0     3272.0     3455.0     3261.0       0.0    1000.0    1000.0   \n",
       "3     13559.0    14331.0    14948.0    15549.0    1518.0    1500.0    1000.0   \n",
       "4     49291.0    28314.0    28959.0    29547.0    2000.0    2019.0    1200.0   \n",
       "5     35835.0    20940.0    19146.0    19131.0    2000.0   36681.0   10000.0   \n",
       "\n",
       "    PAY_AMT4  PAY_AMT5     PAY_AMT6  default_payment_next_month  \n",
       "ID                                                               \n",
       "1        0.0       0.0  16136.23608                         1.0  \n",
       "2     1000.0       0.0   2000.00000                         1.0  \n",
       "3     1000.0    1000.0   5000.00000                         0.0  \n",
       "4     1100.0    1069.0   1000.00000                         0.0  \n",
       "5     9000.0     689.0    679.00000                         0.0  "
      ]
     },
     "execution_count": 7,
     "metadata": {},
     "output_type": "execute_result"
    }
   ],
   "source": [
    "# Ces lignes suivantes sont juste pour garder les noms des entêtes des colonnes après l'imputation\n",
    "df.columns = columns_names\n",
    "df.index = pd.RangeIndex(start=1, stop=30001, step=1)\n",
    "df.index.rename(name=\"ID\", inplace=True)\n",
    "\n",
    "df.head()"
   ]
  },
  {
   "cell_type": "markdown",
   "metadata": {},
   "source": [
    "La phase d'imputation n'est pas encore terminée, dans ce cas il ne faut pas oublier de revenir à la description des données pour voir la modalité et le type de données de chacune des variables que nous avons imputées.\n",
    "\n",
    "* Education -> (1 = études supérieures, 2 = université, 3 = lycée, 4 = autres), dtype = float64\n",
    "* Mariage -> État matrimonial (1 = marié, 2 = célibataire, 3 = autres), dtype = float64\n",
    "* Age -> Âge en années, dtype = float64\n",
    "* PAY_AMT5 -> Montant du paiement précédent en avril 2005 (dollar NT), dtype = float64\n",
    "* PAY_AMT6 -> Montant du paiement précédent en mai 2005 (dollar NT), dtype = float64\n",
    "\n",
    "Nous pouvons voir directement le problème qui se posera après l'imputation, car le type de données de toutes ces variables est **float64**, donc après l'imputation, nous aurons des valeurs réelles pour la variable Education, Mariage et Âge qui n'acceptent que des valeurs entières (**int**)."
   ]
  },
  {
   "cell_type": "code",
   "execution_count": 8,
   "metadata": {},
   "outputs": [
    {
     "data": {
      "text/plain": [
       "array([1.        , 2.        , 3.        , 1.9586862 , 1.05327055,\n",
       "       0.95082471, 1.78753683, 2.4939229 , 1.81570819, 1.03083239,\n",
       "       1.87504501, 1.16509979, 1.6137129 , 1.63501715, 1.5441598 ,\n",
       "       0.7038011 , 0.8754277 , 1.70021202, 1.34304618, 1.42915164,\n",
       "       1.6248229 , 1.2140936 , 1.09028669, 1.49333232, 0.99867129,\n",
       "       1.14195153, 0.9012048 , 1.92761924, 1.29918884, 1.29257899,\n",
       "       0.85760465, 1.61303021, 1.36428254, 0.10044406, 1.19796838,\n",
       "       1.58721647, 1.06300403, 1.66970544, 1.21113049, 1.89454098,\n",
       "       1.04544633, 0.34349078, 1.18974435, 1.47793945, 1.07777779,\n",
       "       2.04574819, 0.93136152, 0.80350556, 1.75369383, 1.35426207,\n",
       "       1.62217439, 0.939406  , 1.54918546, 1.78884365, 1.62528596,\n",
       "       0.62345939, 1.84236126])"
      ]
     },
     "execution_count": 8,
     "metadata": {},
     "output_type": "execute_result"
    }
   ],
   "source": [
    "df[\"MARRIAGE\"].unique()"
   ]
  },
  {
   "cell_type": "markdown",
   "metadata": {},
   "source": [
    "Voici l'exemple de la variable **MARIAGE** qui nous donne une vision sur le problème de modalité, la solution que je propose est d'arrondir (round) les valeurs imputées et de récupérer juste la valeur entière, nous utiliserons la fonction *ciel ()* qui renvoie le plus petit [*entier >= valeur_courante*]"
   ]
  },
  {
   "cell_type": "code",
   "execution_count": 9,
   "metadata": {},
   "outputs": [],
   "source": [
    "# Variable EDUCATION\n",
    "df[\"EDUCATION\"] = df[\"EDUCATION\"].apply(np.absolute)\n",
    "df[\"EDUCATION\"] = df[\"EDUCATION\"].apply(np.ceil)\n",
    "\n",
    "# VARIABLE MARRIAGE\n",
    "df[\"MARRIAGE\"] = df[\"MARRIAGE\"].apply(np.absolute)\n",
    "df[\"MARRIAGE\"] = df[\"MARRIAGE\"].apply(np.ceil)\n",
    "\n",
    "# VARIABLE AGE\n",
    "df[\"AGE\"] = df[\"AGE\"].apply(np.absolute)\n",
    "df[\"AGE\"] = df[\"AGE\"].apply(np.ceil)"
   ]
  },
  {
   "cell_type": "markdown",
   "metadata": {},
   "source": [
    "Nous pouvons voir maintenant le résulatat de modalité sur chaque Variable "
   ]
  },
  {
   "cell_type": "code",
   "execution_count": 10,
   "metadata": {},
   "outputs": [
    {
     "name": "stdout",
     "output_type": "stream",
     "text": [
      "Modalité d'Education :  [2. 1. 3. 4.]\n",
      "Modalité du Marriage:  [1. 2. 3.]\n"
     ]
    }
   ],
   "source": [
    "print (\"Modalité d'Education : \", df[\"EDUCATION\"].unique())\n",
    "print (\"Modalité du Marriage: \", df[\"MARRIAGE\"].unique())"
   ]
  },
  {
   "cell_type": "markdown",
   "metadata": {},
   "source": [
    "Il faut s'assurer que chaque variable a des valeurs entières (int) (cette variable n'était pas le sujet de l'imputation) juste la fonction *em()* renvoie la valeur en *float* de toutes les variables"
   ]
  },
  {
   "cell_type": "code",
   "execution_count": 11,
   "metadata": {},
   "outputs": [],
   "source": [
    "df[\"default_payment_next_month\"] = df[\"default_payment_next_month\"].apply(np.trunc)"
   ]
  },
  {
   "cell_type": "markdown",
   "metadata": {},
   "source": [
    "### Maintenant, mon dataset est prêt pour une bonne utilisation"
   ]
  },
  {
   "cell_type": "markdown",
   "metadata": {},
   "source": [
    "## Etude statistique \n",
    "\n",
    "Pour cette partie des statistiques, je me concentrerai beaucoup sur les variables **Education, Mariage, Sexe, Âge** et la variable que je veux prédire **default_payment**.\n",
    "\n",
    "La chose la plus importante de cette partie est de comprendre nos données, la distribution de certaines variables, la corrélation entre les variables qui seront nos prédicteurs et l'équilibre de certaines variables. Cette étude nous aidera à améliorer mon modèle de prédiction ou à remédier à un problème de sur-ajustement (_Overfitting_) s'il existe.\n",
    "\n",
    "Nous commençons par quelques statistiques descriptives classiques"
   ]
  },
  {
   "cell_type": "code",
   "execution_count": 12,
   "metadata": {},
   "outputs": [
    {
     "data": {
      "text/html": [
       "<div>\n",
       "<style scoped>\n",
       "    .dataframe tbody tr th:only-of-type {\n",
       "        vertical-align: middle;\n",
       "    }\n",
       "\n",
       "    .dataframe tbody tr th {\n",
       "        vertical-align: top;\n",
       "    }\n",
       "\n",
       "    .dataframe thead th {\n",
       "        text-align: right;\n",
       "    }\n",
       "</style>\n",
       "<table border=\"1\" class=\"dataframe\">\n",
       "  <thead>\n",
       "    <tr style=\"text-align: right;\">\n",
       "      <th></th>\n",
       "      <th>SEX</th>\n",
       "      <th>EDUCATION</th>\n",
       "      <th>MARRIAGE</th>\n",
       "    </tr>\n",
       "  </thead>\n",
       "  <tbody>\n",
       "    <tr>\n",
       "      <th>count</th>\n",
       "      <td>30000.000000</td>\n",
       "      <td>30000.000000</td>\n",
       "      <td>30000.000000</td>\n",
       "    </tr>\n",
       "    <tr>\n",
       "      <th>mean</th>\n",
       "      <td>1.603733</td>\n",
       "      <td>1.820267</td>\n",
       "      <td>1.555133</td>\n",
       "    </tr>\n",
       "    <tr>\n",
       "      <th>std</th>\n",
       "      <td>0.489129</td>\n",
       "      <td>0.711416</td>\n",
       "      <td>0.518301</td>\n",
       "    </tr>\n",
       "    <tr>\n",
       "      <th>min</th>\n",
       "      <td>1.000000</td>\n",
       "      <td>1.000000</td>\n",
       "      <td>1.000000</td>\n",
       "    </tr>\n",
       "    <tr>\n",
       "      <th>25%</th>\n",
       "      <td>1.000000</td>\n",
       "      <td>1.000000</td>\n",
       "      <td>1.000000</td>\n",
       "    </tr>\n",
       "    <tr>\n",
       "      <th>50%</th>\n",
       "      <td>2.000000</td>\n",
       "      <td>2.000000</td>\n",
       "      <td>2.000000</td>\n",
       "    </tr>\n",
       "    <tr>\n",
       "      <th>75%</th>\n",
       "      <td>2.000000</td>\n",
       "      <td>2.000000</td>\n",
       "      <td>2.000000</td>\n",
       "    </tr>\n",
       "    <tr>\n",
       "      <th>max</th>\n",
       "      <td>2.000000</td>\n",
       "      <td>4.000000</td>\n",
       "      <td>3.000000</td>\n",
       "    </tr>\n",
       "  </tbody>\n",
       "</table>\n",
       "</div>"
      ],
      "text/plain": [
       "                SEX     EDUCATION      MARRIAGE\n",
       "count  30000.000000  30000.000000  30000.000000\n",
       "mean       1.603733      1.820267      1.555133\n",
       "std        0.489129      0.711416      0.518301\n",
       "min        1.000000      1.000000      1.000000\n",
       "25%        1.000000      1.000000      1.000000\n",
       "50%        2.000000      2.000000      2.000000\n",
       "75%        2.000000      2.000000      2.000000\n",
       "max        2.000000      4.000000      3.000000"
      ]
     },
     "execution_count": 12,
     "metadata": {},
     "output_type": "execute_result"
    }
   ],
   "source": [
    "df[['SEX', 'EDUCATION', 'MARRIAGE']].describe()"
   ]
  },
  {
   "cell_type": "markdown",
   "metadata": {},
   "source": [
    "On peut remarquer que le nombre de **Sex** Féminin est supérieur au Masculin _(> = 50% de femmes)_ , de même pour la variable **Education** on peut voir que les lycéens représentent une minorité car elle n'apparaît pas dans les stats, Enfin, les personnes mariées sont majoritaires que les célibataires. \n",
    "\n",
    "On peut également voir que les labels 3 et 4 de **Mariage et Education** ne sont pas présents."
   ]
  },
  {
   "cell_type": "code",
   "execution_count": 11,
   "metadata": {},
   "outputs": [
    {
     "data": {
      "text/html": [
       "<div>\n",
       "<style scoped>\n",
       "    .dataframe tbody tr th:only-of-type {\n",
       "        vertical-align: middle;\n",
       "    }\n",
       "\n",
       "    .dataframe tbody tr th {\n",
       "        vertical-align: top;\n",
       "    }\n",
       "\n",
       "    .dataframe thead th {\n",
       "        text-align: right;\n",
       "    }\n",
       "</style>\n",
       "<table border=\"1\" class=\"dataframe\">\n",
       "  <thead>\n",
       "    <tr style=\"text-align: right;\">\n",
       "      <th></th>\n",
       "      <th>AGE</th>\n",
       "    </tr>\n",
       "  </thead>\n",
       "  <tbody>\n",
       "    <tr>\n",
       "      <th>count</th>\n",
       "      <td>30000.000000</td>\n",
       "    </tr>\n",
       "    <tr>\n",
       "      <th>mean</th>\n",
       "      <td>35.200733</td>\n",
       "    </tr>\n",
       "    <tr>\n",
       "      <th>std</th>\n",
       "      <td>9.175172</td>\n",
       "    </tr>\n",
       "    <tr>\n",
       "      <th>min</th>\n",
       "      <td>3.000000</td>\n",
       "    </tr>\n",
       "    <tr>\n",
       "      <th>25%</th>\n",
       "      <td>28.000000</td>\n",
       "    </tr>\n",
       "    <tr>\n",
       "      <th>50%</th>\n",
       "      <td>34.000000</td>\n",
       "    </tr>\n",
       "    <tr>\n",
       "      <th>75%</th>\n",
       "      <td>41.000000</td>\n",
       "    </tr>\n",
       "    <tr>\n",
       "      <th>max</th>\n",
       "      <td>79.000000</td>\n",
       "    </tr>\n",
       "  </tbody>\n",
       "</table>\n",
       "</div>"
      ],
      "text/plain": [
       "                AGE\n",
       "count  30000.000000\n",
       "mean      35.200733\n",
       "std        9.175172\n",
       "min        3.000000\n",
       "25%       28.000000\n",
       "50%       34.000000\n",
       "75%       41.000000\n",
       "max       79.000000"
      ]
     },
     "execution_count": 11,
     "metadata": {},
     "output_type": "execute_result"
    }
   ],
   "source": [
    "df[['AGE']].describe()"
   ]
  },
  {
   "cell_type": "markdown",
   "metadata": {},
   "source": [
    "On peut remarquer qu'à Taiwan les gens avec un âge moyen de **35 ans** ont tous une carte de crédit, une autre remarque est que ***l'âge min est de 3, ce qui n'est pas normal***, cela revient au fait que nous avons imputé des données manquantes c'est le premier problème de valeurs manquantes après imputation nous pouvons avoir des valeurs anormales."
   ]
  },
  {
   "cell_type": "code",
   "execution_count": 12,
   "metadata": {},
   "outputs": [
    {
     "data": {
      "text/html": [
       "<div>\n",
       "<style scoped>\n",
       "    .dataframe tbody tr th:only-of-type {\n",
       "        vertical-align: middle;\n",
       "    }\n",
       "\n",
       "    .dataframe tbody tr th {\n",
       "        vertical-align: top;\n",
       "    }\n",
       "\n",
       "    .dataframe thead th {\n",
       "        text-align: right;\n",
       "    }\n",
       "</style>\n",
       "<table border=\"1\" class=\"dataframe\">\n",
       "  <thead>\n",
       "    <tr style=\"text-align: right;\">\n",
       "      <th></th>\n",
       "      <th>LIMIT_BAL</th>\n",
       "    </tr>\n",
       "  </thead>\n",
       "  <tbody>\n",
       "    <tr>\n",
       "      <th>count</th>\n",
       "      <td>30000.000000</td>\n",
       "    </tr>\n",
       "    <tr>\n",
       "      <th>mean</th>\n",
       "      <td>167484.322667</td>\n",
       "    </tr>\n",
       "    <tr>\n",
       "      <th>std</th>\n",
       "      <td>129747.661567</td>\n",
       "    </tr>\n",
       "    <tr>\n",
       "      <th>min</th>\n",
       "      <td>10000.000000</td>\n",
       "    </tr>\n",
       "    <tr>\n",
       "      <th>25%</th>\n",
       "      <td>50000.000000</td>\n",
       "    </tr>\n",
       "    <tr>\n",
       "      <th>50%</th>\n",
       "      <td>140000.000000</td>\n",
       "    </tr>\n",
       "    <tr>\n",
       "      <th>75%</th>\n",
       "      <td>240000.000000</td>\n",
       "    </tr>\n",
       "    <tr>\n",
       "      <th>max</th>\n",
       "      <td>1000000.000000</td>\n",
       "    </tr>\n",
       "  </tbody>\n",
       "</table>\n",
       "</div>"
      ],
      "text/plain": [
       "            LIMIT_BAL\n",
       "count    30000.000000\n",
       "mean    167484.322667\n",
       "std     129747.661567\n",
       "min      10000.000000\n",
       "25%      50000.000000\n",
       "50%     140000.000000\n",
       "75%     240000.000000\n",
       "max    1000000.000000"
      ]
     },
     "execution_count": 12,
     "metadata": {},
     "output_type": "execute_result"
    }
   ],
   "source": [
    "df[['LIMIT_BAL']].describe()"
   ]
  },
  {
   "cell_type": "markdown",
   "metadata": {},
   "source": [
    "La gamme est très large. il faut voir quelle est la raison ou quelles sont les caractéristiques de ces personnes qui ont un crédit maximum de 1M $"
   ]
  },
  {
   "cell_type": "markdown",
   "metadata": {},
   "source": [
    "Nous avons des variables catégorielles qui sont SEXE, MARIAGE, ÉDUCATION, et je veux voir comment notre jeu de données est divisé"
   ]
  },
  {
   "cell_type": "code",
   "execution_count": 13,
   "metadata": {},
   "outputs": [
    {
     "data": {
      "text/plain": [
       "<matplotlib.axes._subplots.AxesSubplot at 0x1df2584a1c8>"
      ]
     },
     "execution_count": 13,
     "metadata": {},
     "output_type": "execute_result"
    },
    {
     "data": {
      "image/png": "[encoded data removed]",
      "text/plain": [
       "<Figure size 432x288 with 1 Axes>"
      ]
     },
     "metadata": {
      "needs_background": "light"
     },
     "output_type": "display_data"
    }
   ],
   "source": [
    "df.MARRIAGE.value_counts().plot(kind = 'bar')"
   ]
  },
  {
   "cell_type": "code",
   "execution_count": 14,
   "metadata": {},
   "outputs": [
    {
     "data": {
      "text/plain": [
       "<matplotlib.axes._subplots.AxesSubplot at 0x1df25b2f0c8>"
      ]
     },
     "execution_count": 14,
     "metadata": {},
     "output_type": "execute_result"
    },
    {
     "data": {
      "image/png": "[encoded data removed]",
      "text/plain": [
       "<Figure size 432x288 with 1 Axes>"
      ]
     },
     "metadata": {
      "needs_background": "light"
     },
     "output_type": "display_data"
    }
   ],
   "source": [
    "df.SEX.value_counts().plot(kind = 'bar')"
   ]
  },
  {
   "cell_type": "code",
   "execution_count": 15,
   "metadata": {
    "scrolled": true
   },
   "outputs": [
    {
     "data": {
      "text/plain": [
       "<matplotlib.axes._subplots.AxesSubplot at 0x1df25bc9cc8>"
      ]
     },
     "execution_count": 15,
     "metadata": {},
     "output_type": "execute_result"
    },
    {
     "data": {
      "image/png": "[encoded data removed]",
      "text/plain": [
       "<Figure size 432x288 with 1 Axes>"
      ]
     },
     "metadata": {
      "needs_background": "light"
     },
     "output_type": "display_data"
    }
   ],
   "source": [
    "df.EDUCATION.value_counts().plot(kind = 'bar')"
   ]
  },
  {
   "cell_type": "markdown",
   "metadata": {},
   "source": [
    "Nous pouvons voir que les étiquettes **3 et 4 de Mariage et d'éducation** qui représentent **« Autre »** sont moins présentes dans notre base de données ce qui nous donnera une idée du sur-ajustement (overfitting) s'il existe, puis après nous pouvons voir aussi que le sex féminin est plus présent que le masculin"
   ]
  },
  {
   "cell_type": "markdown",
   "metadata": {},
   "source": [
    "Nous pouvons maintenant avancer dans notre étude statistique et voir l'influence de certaines variables sur la variable que nous voulons prédire. Le but est de voir à quel point chaque variable est pertinente, quelle est sa signification ?"
   ]
  },
  {
   "cell_type": "code",
   "execution_count": 13,
   "metadata": {
    "scrolled": true
   },
   "outputs": [
    {
     "name": "stdout",
     "output_type": "stream",
     "text": [
      "default_payment_next_month    0.0   1.0\n",
      "SEX                                    \n",
      "1.0                          9015  2873\n",
      "2.0                         14349  3763\n"
     ]
    }
   ],
   "source": [
    "gender_default = pd.crosstab(df.SEX, df.default_payment_next_month)\n",
    "print(gender_default)"
   ]
  },
  {
   "cell_type": "markdown",
   "metadata": {},
   "source": [
    "Plus de **22%** des clients seront en défaut de payement , et le plus important est que les hommes vont probablement faire objet de défaut de payement le mois prochain."
   ]
  },
  {
   "cell_type": "markdown",
   "metadata": {},
   "source": [
    "Nous pouvons faire la même chose pour les variables Education et Mariage."
   ]
  },
  {
   "cell_type": "code",
   "execution_count": 14,
   "metadata": {},
   "outputs": [
    {
     "name": "stdout",
     "output_type": "stream",
     "text": [
      "default_payment_next_month    0.0   1.0  percentage\n",
      "EDUCATION                                          \n",
      "1.0                          8605  2041    0.191715\n",
      "2.0                         10885  3341    0.234852\n",
      "3.0                          3756  1246    0.249100\n",
      "4.0                           118     8    0.063492\n"
     ]
    },
    {
     "data": {
      "image/png": "[encoded data removed]",
      "text/plain": [
       "<Figure size 432x288 with 1 Axes>"
      ]
     },
     "metadata": {
      "needs_background": "light"
     },
     "output_type": "display_data"
    }
   ],
   "source": [
    "education_default = pd.crosstab(df.EDUCATION, df.default_payment_next_month)\n",
    "education_default.plot(kind='bar', stacked = True)\n",
    "education_default['percentage'] = (education_default[1]/(education_default[0] + education_default[1])) \n",
    "print(education_default)"
   ]
  },
  {
   "cell_type": "code",
   "execution_count": 15,
   "metadata": {},
   "outputs": [
    {
     "name": "stdout",
     "output_type": "stream",
     "text": [
      "default_payment_next_month    0.0   1.0  percentage\n",
      "MARRIAGE                                           \n",
      "1.0                         10464  3207    0.234584\n",
      "2.0                         12659  3345    0.209010\n",
      "3.0                           241    84    0.258462\n"
     ]
    },
    {
     "data": {
      "image/png": "[encoded data removed]",
      "text/plain": [
       "<Figure size 432x288 with 1 Axes>"
      ]
     },
     "metadata": {
      "needs_background": "light"
     },
     "output_type": "display_data"
    }
   ],
   "source": [
    "marriage_default = pd.crosstab(df.MARRIAGE, df.default_payment_next_month)\n",
    "marriage_default.plot(kind='bar', stacked = True)\n",
    "marriage_default['percentage'] = (marriage_default[1]/(marriage_default[0] + marriage_default[1])) \n",
    "print(marriage_default)"
   ]
  },
  {
   "cell_type": "markdown",
   "metadata": {},
   "source": [
    "Nous pouvons avoir quelques remarques:\n",
    "\n",
    "* Plus le niveau de scolarité est élevé, plus faible est la probabilité de défaut de paiement le mois suivant **(19%)**\n",
    "* Les personnes mariées sont les plus susceptibles de faire défaut **(23%)**"
   ]
  },
  {
   "cell_type": "markdown",
   "metadata": {},
   "source": [
    "Je veux maintenant voir l'influence de l'âge sur le paiement par défaut le mois prochain"
   ]
  },
  {
   "cell_type": "code",
   "execution_count": 16,
   "metadata": {},
   "outputs": [
    {
     "data": {
      "image/png": "[encoded data removed]",
      "text/plain": [
       "<Figure size 1008x432 with 1 Axes>"
      ]
     },
     "metadata": {
      "needs_background": "light"
     },
     "output_type": "display_data"
    }
   ],
   "source": [
    "class_0 = df.loc[df['default_payment_next_month'] == 0][\"AGE\"]\n",
    "class_1 = df.loc[df['default_payment_next_month'] == 1][\"AGE\"]\n",
    "plt.figure(figsize = (14,6))\n",
    "plt.title('AGE - grouped by Payment Next Month')\n",
    "sns.set_color_codes(\"pastel\")\n",
    "sns.distplot(class_1,kde=True,bins=200, color=\"red\")\n",
    "sns.distplot(class_0,kde=True,bins=200, color=\"green\")\n",
    "plt.show()"
   ]
  },
  {
   "cell_type": "markdown",
   "metadata": {},
   "source": [
    "Ce graph nous donne une remarque très pertinente, c'est que les personnes **avant 30 ans** ont plus de défaut tant qu'**entre 30 et 40 ans (âge moyen)** la majorité des clients n'ont pas de défaut. Cependant, la différence entre défaut et non défaut n'est pas assez grande en fonction de l'âge"
   ]
  },
  {
   "cell_type": "markdown",
   "metadata": {},
   "source": [
    "Pour terminer cette étude statistique, nous pouvons montrer la corrélation entre le montant de la facture et le paiement."
   ]
  },
  {
   "cell_type": "markdown",
   "metadata": {},
   "source": [
    "La corrélation du relevé du montant de la facture d'avril à septembre 2005"
   ]
  },
  {
   "cell_type": "code",
   "execution_count": 17,
   "metadata": {},
   "outputs": [
    {
     "data": {
      "image/png": "[encoded data removed]",
      "text/plain": [
       "<Figure size 576x576 with 2 Axes>"
      ]
     },
     "metadata": {
      "needs_background": "light"
     },
     "output_type": "display_data"
    }
   ],
   "source": [
    "bills_amounts = ['BILL_AMT1','BILL_AMT2','BILL_AMT3','BILL_AMT4','BILL_AMT5','BILL_AMT6']\n",
    "plt.figure(figsize = (8,8))\n",
    "plt.title('The correlation of Amount of bill statement in April - September 2005')\n",
    "corr = df[bills_amounts].corr()\n",
    "sns.heatmap(corr, xticklabels=corr.columns, yticklabels=corr.columns, linewidths=.1, vmin=-1, vmax=1)\n",
    "plt.show()"
   ]
  },
  {
   "cell_type": "markdown",
   "metadata": {},
   "source": [
    "La corrélation diminue avec la distance entre les mois. Les corrélations les plus faibles se situent entre septembre et avril."
   ]
  },
  {
   "cell_type": "code",
   "execution_count": 20,
   "metadata": {},
   "outputs": [
    {
     "data": {
      "image/png": "[encoded data removed]",
      "text/plain": [
       "<Figure size 576x576 with 2 Axes>"
      ]
     },
     "metadata": {
      "needs_background": "light"
     },
     "output_type": "display_data"
    }
   ],
   "source": [
    "payments_amounts = ['PAY_AMT1', 'PAY_AMT2', 'PAY_AMT3', 'PAY_AMT4', 'PAY_AMT5']\n",
    "\n",
    "plt.figure(figsize = (8,8))\n",
    "plt.title('The correlation of Amount of previous payment in April - September 2005.')\n",
    "corr = df[payments_amounts].corr()\n",
    "sns.heatmap(corr, xticklabels=corr.columns, yticklabels=corr.columns, linewidths=.1, vmin=-1, vmax=1)\n",
    "plt.show()"
   ]
  },
  {
   "cell_type": "markdown",
   "metadata": {},
   "source": [
    "Il n'y a pas de corrélation entre les montants des paiements antérieurs pour avril-septembre 2005"
   ]
  },
  {
   "cell_type": "markdown",
   "metadata": {},
   "source": [
    "# Modélisation de la prédiction \n",
    "\n",
    "Je vais diviser mon jeu de données en train / test puis aprés faire un entrainement.\n",
    "Je vais choisir un modèle pour entrainement et évaluez-le avec une métrique pertinente."
   ]
  },
  {
   "cell_type": "markdown",
   "metadata": {},
   "source": [
    "Après notre prétraitement des données, il est temps de démarrer la phase de traitement de notre base de données et de mettre en œuvre des modèles de prédiction.\n",
    "\n",
    "Notre problème est un problème de **classification**, il existe plusieurs techniques de classification dont la première qui vient à l'esprit est les *Arbres de décision* et *Random Forest* .\n",
    "\n",
    "J'ai choisi Random Forest pour éviter le problème de sur-ajustement (Overfitting) que nous pouvons avoir lors de l'utilisation de Decision Tree.\n",
    "\n",
    "Alors, ayons une idée de l'arbre de décision et de la forêt aléatoire: \n",
    "\n",
    "- **Decision Tree (Arbre de décision):**\n",
    "     Un ensemble de règles permet à un prospect de voyager de la racine de l'arbre en passant par les nœuds jusqu'à une feuille qui lui attribue une valeur cible (Score / certitude)\n",
    "     \n",
    "\n",
    "- **Random Forest (Forêt aléatoire):**\n",
    "     Méthode d'ensemble, qui repose sur un ensemble d'arbres de décision de différentes tailles et formes (ensachage et échantillonnage d'entités), son principe est le suivant: une perspective traverse chacun des arbres de la forêt de la racine à la feuille qui attribue si c'est une valeur cible temporaire, la prédiction finale est faite par vote; en fait, la valeur ayant le plus grand nombre d'arbres parmi les arbres de la forêt devient la valeur définitivement attribuée à la perspective.\n",
    "     \n",
    "     *PS: La méthode de vote pour les données qualitatives (notre cas) et la méthode de moyenne pour les données quantitatives*"
   ]
  },
  {
   "cell_type": "code",
   "execution_count": 22,
   "metadata": {},
   "outputs": [],
   "source": [
    "# Define predictors and target values\n",
    "\n",
    "target = df.loc[:, \"default_payment_next_month\"]\n",
    "predictors = df.loc[:, \"LIMIT_BAL\":\"PAY_AMT6\"]\n",
    "\n",
    "# Split to train (80% of df) and test (20% of data) data \n",
    "X_train, X_test, y_train, y_test = train_test_split(predictors, target, test_size=0.20, random_state=100)\n",
    "\n",
    "# Here are parmeters of our classifier\n",
    "\n",
    "# criterion :  metric used for RandomForrestClassifier\n",
    "# n_estimators : number of estimators used for RandomForrestClassifier (number of trees)\n",
    "# n_jobs : number of parallel jobs used for RandomForrestClassifier\n",
    "\n",
    "classifier = RandomForestClassifier(n_jobs=4, random_state=2020, criterion='gini', n_estimators=1000, verbose=False)\n",
    "\n",
    "# Let's train our classifier using the train data data and fit function.\n",
    "classifier.fit(X_train, y_train)\n",
    "\n",
    "# Let's now predict the target values using predict function.\n",
    "y_test_preds = classifier.predict(X_test)"
   ]
  },
  {
   "cell_type": "markdown",
   "metadata": {},
   "source": [
    "Après l'application d'un algorithme de classification, il est temps de tester ces performances à l'aide d'une métirique pertinente.\n",
    "\n",
    "Nous avons plusieurs choix de mesures de performance, à l'étape suivante, j'appliquerai deux mesures d'évaluation des performances, puis j'en sélectionnerai une comme mesure d'évaluation."
   ]
  },
  {
   "cell_type": "markdown",
   "metadata": {},
   "source": [
    "# Evaluation des performances\n",
    "\n",
    "- **RMSE:**\n",
    "\n",
    "    *(erreur quadratique moyenne)*, cet indice donne une indication sur la dispersion ou la variabilité de la qualité de la prédiction. Le RMSE peut être lié à la variance du modèle.\n",
    "    ***rmse = sqrt (1 / size_data * sum (y_test - y_test_preds))***\n",
    "    \n",
    "    \n",
    "    \n",
    "- **Accuracy:**\n",
    "    \n",
    "     l'exactitude d'un système de mesure est le degré de proximité des mesures d'une quantité avec la valeur réelle de cette quantité.\n",
    "     \n",
    "     ***accuracy = classes correctement prédites / totale des classes de test ***\n",
    "     \n",
    "     ou bien,\n",
    "     \n",
    "     ***accuracy = (VP + VN) / (VP + VN + FP + FN)***, *V : Vrai, F : Faux, P : Positif, N : Négatif*"
   ]
  },
  {
   "cell_type": "code",
   "execution_count": 23,
   "metadata": {},
   "outputs": [
    {
     "name": "stdout",
     "output_type": "stream",
     "text": [
      "model performance on test data\n",
      "----------------------------------------------\n",
      "Mean squared error is 0.4606155302056876\n"
     ]
    }
   ],
   "source": [
    "# Computing the model performances\n",
    "rmse_test = (np.sqrt(mean_squared_error(y_test, y_test_preds)))\n",
    "\n",
    "# Printing the results of performances\n",
    "print(\"model performance on test data\")\n",
    "print(\"----------------------------------------------\")\n",
    "print(\"Mean squared error is {}\".format(rmse_test))"
   ]
  },
  {
   "cell_type": "code",
   "execution_count": 25,
   "metadata": {},
   "outputs": [
    {
     "name": "stdout",
     "output_type": "stream",
     "text": [
      "model performance on test data\n",
      "----------------------------------------------\n",
      "Accuracy score is 0.7878333333333334\n"
     ]
    }
   ],
   "source": [
    "# Computing the model performances\n",
    "acc_test = accuracy_score(y_test, y_test_preds)\n",
    "\n",
    "# Printing the results of performances\n",
    "print(\"model performance on test data\")\n",
    "print(\"----------------------------------------------\")\n",
    "print(\"Accuracy score is {}\".format(acc_test))"
   ]
  }
 ],
 "metadata": {
  "kernelspec": {
   "display_name": "Python 3",
   "language": "python",
   "name": "python3"
  },
  "language_info": {
   "codemirror_mode": {
    "name": "ipython",
    "version": 3
   },
   "file_extension": ".py",
   "mimetype": "text/x-python",
   "name": "python",
   "nbconvert_exporter": "python",
   "pygments_lexer": "ipython3",
   "version": "3.7.4"
  }
 },
 "nbformat": 4,
 "nbformat_minor": 2
}
